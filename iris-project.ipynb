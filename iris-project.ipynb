{
 "cells": [
  {
   "cell_type": "code",
   "execution_count": 1,
   "metadata": {
    "_cell_guid": "b1076dfc-b9ad-4769-8c92-a6c4dae69d19",
    "_uuid": "8f2839f25d086af736a60e9eeb907d3b93b6e0e5"
   },
   "outputs": [
    {
     "name": "stdout",
     "output_type": "stream",
     "text": [
      "['database.sqlite', 'Iris.csv']\n"
     ]
    }
   ],
   "source": [
    "# This Python 3 environment comes with many helpful analytics libraries installed\n",
    "# It is defined by the kaggle/python docker image: https://github.com/kaggle/docker-python\n",
    "# For example, here's several helpful packages to load in \n",
    "\n",
    "import numpy as np # linear algebra\n",
    "import pandas as pd # data processing, CSV file I/O (e.g. pd.read_csv)\n",
    "\n",
    "# Input data files are available in the \"../input/\" directory.\n",
    "# For example, running this (by clicking run or pressing Shift+Enter) will list the files in the input directory\n",
    "\n",
    "import os\n",
    "print(os.listdir(\"../input\"))\n",
    "\n",
    "# Any results you write to the current directory are saved as output."
   ]
  },
  {
   "cell_type": "markdown",
   "metadata": {
    "_uuid": "620e5ad951a39a34fad0e3c50f1b644499ddccfa"
   },
   "source": [
    "   Explore Data "
   ]
  },
  {
   "cell_type": "code",
   "execution_count": 2,
   "metadata": {
    "_uuid": "dabc2b3b6c8f874d760c8e5d5f32daea5f02b7e3"
   },
   "outputs": [],
   "source": [
    "data = pd.read_csv(\"../input/Iris.csv\")"
   ]
  },
  {
   "cell_type": "code",
   "execution_count": 3,
   "metadata": {
    "_uuid": "a8f0e5a93bf8f8f02d367e3edd4c4753db010ea6"
   },
   "outputs": [
    {
     "data": {
      "text/html": [
       "<div>\n",
       "<style scoped>\n",
       "    .dataframe tbody tr th:only-of-type {\n",
       "        vertical-align: middle;\n",
       "    }\n",
       "\n",
       "    .dataframe tbody tr th {\n",
       "        vertical-align: top;\n",
       "    }\n",
       "\n",
       "    .dataframe thead th {\n",
       "        text-align: right;\n",
       "    }\n",
       "</style>\n",
       "<table border=\"1\" class=\"dataframe\">\n",
       "  <thead>\n",
       "    <tr style=\"text-align: right;\">\n",
       "      <th></th>\n",
       "      <th>Id</th>\n",
       "      <th>SepalLengthCm</th>\n",
       "      <th>SepalWidthCm</th>\n",
       "      <th>PetalLengthCm</th>\n",
       "      <th>PetalWidthCm</th>\n",
       "      <th>Species</th>\n",
       "    </tr>\n",
       "  </thead>\n",
       "  <tbody>\n",
       "    <tr>\n",
       "      <th>0</th>\n",
       "      <td>1</td>\n",
       "      <td>5.1</td>\n",
       "      <td>3.5</td>\n",
       "      <td>1.4</td>\n",
       "      <td>0.2</td>\n",
       "      <td>Iris-setosa</td>\n",
       "    </tr>\n",
       "    <tr>\n",
       "      <th>1</th>\n",
       "      <td>2</td>\n",
       "      <td>4.9</td>\n",
       "      <td>3.0</td>\n",
       "      <td>1.4</td>\n",
       "      <td>0.2</td>\n",
       "      <td>Iris-setosa</td>\n",
       "    </tr>\n",
       "  </tbody>\n",
       "</table>\n",
       "</div>"
      ],
      "text/plain": [
       "   Id  SepalLengthCm     ...       PetalWidthCm      Species\n",
       "0   1            5.1     ...                0.2  Iris-setosa\n",
       "1   2            4.9     ...                0.2  Iris-setosa\n",
       "\n",
       "[2 rows x 6 columns]"
      ]
     },
     "execution_count": 3,
     "metadata": {},
     "output_type": "execute_result"
    }
   ],
   "source": [
    "data.head(2)"
   ]
  },
  {
   "cell_type": "code",
   "execution_count": 4,
   "metadata": {
    "_uuid": "ccd40b12941f90e1333ed59d2b7fe142623ae931"
   },
   "outputs": [
    {
     "data": {
      "text/html": [
       "<div>\n",
       "<style scoped>\n",
       "    .dataframe tbody tr th:only-of-type {\n",
       "        vertical-align: middle;\n",
       "    }\n",
       "\n",
       "    .dataframe tbody tr th {\n",
       "        vertical-align: top;\n",
       "    }\n",
       "\n",
       "    .dataframe thead th {\n",
       "        text-align: right;\n",
       "    }\n",
       "</style>\n",
       "<table border=\"1\" class=\"dataframe\">\n",
       "  <thead>\n",
       "    <tr style=\"text-align: right;\">\n",
       "      <th></th>\n",
       "      <th>Id</th>\n",
       "      <th>SepalLengthCm</th>\n",
       "      <th>SepalWidthCm</th>\n",
       "      <th>PetalLengthCm</th>\n",
       "      <th>PetalWidthCm</th>\n",
       "    </tr>\n",
       "  </thead>\n",
       "  <tbody>\n",
       "    <tr>\n",
       "      <th>count</th>\n",
       "      <td>150.000000</td>\n",
       "      <td>150.000000</td>\n",
       "      <td>150.000000</td>\n",
       "      <td>150.000000</td>\n",
       "      <td>150.000000</td>\n",
       "    </tr>\n",
       "    <tr>\n",
       "      <th>mean</th>\n",
       "      <td>75.500000</td>\n",
       "      <td>5.843333</td>\n",
       "      <td>3.054000</td>\n",
       "      <td>3.758667</td>\n",
       "      <td>1.198667</td>\n",
       "    </tr>\n",
       "    <tr>\n",
       "      <th>std</th>\n",
       "      <td>43.445368</td>\n",
       "      <td>0.828066</td>\n",
       "      <td>0.433594</td>\n",
       "      <td>1.764420</td>\n",
       "      <td>0.763161</td>\n",
       "    </tr>\n",
       "    <tr>\n",
       "      <th>min</th>\n",
       "      <td>1.000000</td>\n",
       "      <td>4.300000</td>\n",
       "      <td>2.000000</td>\n",
       "      <td>1.000000</td>\n",
       "      <td>0.100000</td>\n",
       "    </tr>\n",
       "    <tr>\n",
       "      <th>25%</th>\n",
       "      <td>38.250000</td>\n",
       "      <td>5.100000</td>\n",
       "      <td>2.800000</td>\n",
       "      <td>1.600000</td>\n",
       "      <td>0.300000</td>\n",
       "    </tr>\n",
       "    <tr>\n",
       "      <th>50%</th>\n",
       "      <td>75.500000</td>\n",
       "      <td>5.800000</td>\n",
       "      <td>3.000000</td>\n",
       "      <td>4.350000</td>\n",
       "      <td>1.300000</td>\n",
       "    </tr>\n",
       "    <tr>\n",
       "      <th>75%</th>\n",
       "      <td>112.750000</td>\n",
       "      <td>6.400000</td>\n",
       "      <td>3.300000</td>\n",
       "      <td>5.100000</td>\n",
       "      <td>1.800000</td>\n",
       "    </tr>\n",
       "    <tr>\n",
       "      <th>max</th>\n",
       "      <td>150.000000</td>\n",
       "      <td>7.900000</td>\n",
       "      <td>4.400000</td>\n",
       "      <td>6.900000</td>\n",
       "      <td>2.500000</td>\n",
       "    </tr>\n",
       "  </tbody>\n",
       "</table>\n",
       "</div>"
      ],
      "text/plain": [
       "               Id  SepalLengthCm      ...       PetalLengthCm  PetalWidthCm\n",
       "count  150.000000     150.000000      ...          150.000000    150.000000\n",
       "mean    75.500000       5.843333      ...            3.758667      1.198667\n",
       "std     43.445368       0.828066      ...            1.764420      0.763161\n",
       "min      1.000000       4.300000      ...            1.000000      0.100000\n",
       "25%     38.250000       5.100000      ...            1.600000      0.300000\n",
       "50%     75.500000       5.800000      ...            4.350000      1.300000\n",
       "75%    112.750000       6.400000      ...            5.100000      1.800000\n",
       "max    150.000000       7.900000      ...            6.900000      2.500000\n",
       "\n",
       "[8 rows x 5 columns]"
      ]
     },
     "execution_count": 4,
     "metadata": {},
     "output_type": "execute_result"
    }
   ],
   "source": [
    "data.describe()"
   ]
  },
  {
   "cell_type": "markdown",
   "metadata": {
    "_uuid": "e62c16420059a7fa70a9cab2248cfe87ce4ced03"
   },
   "source": [
    "Drop the unneccessary Data "
   ]
  },
  {
   "cell_type": "code",
   "execution_count": 5,
   "metadata": {
    "_uuid": "f9a24a45b0aa0fba7a85cf294056a5790021eaf6"
   },
   "outputs": [],
   "source": [
    "data.drop('Id',axis=1, inplace= True)"
   ]
  },
  {
   "cell_type": "code",
   "execution_count": 6,
   "metadata": {
    "_uuid": "5c3d23c5b2f86c3138041b768cf30e304b447803"
   },
   "outputs": [
    {
     "name": "stdout",
     "output_type": "stream",
     "text": [
      "<class 'pandas.core.frame.DataFrame'>\n",
      "RangeIndex: 150 entries, 0 to 149\n",
      "Data columns (total 5 columns):\n",
      "SepalLengthCm    150 non-null float64\n",
      "SepalWidthCm     150 non-null float64\n",
      "PetalLengthCm    150 non-null float64\n",
      "PetalWidthCm     150 non-null float64\n",
      "Species          150 non-null object\n",
      "dtypes: float64(4), object(1)\n",
      "memory usage: 5.9+ KB\n"
     ]
    }
   ],
   "source": [
    "data.info()"
   ]
  },
  {
   "cell_type": "code",
   "execution_count": 7,
   "metadata": {
    "_uuid": "bf604dbe2c563dc87cf95faa0f04f8de58518457"
   },
   "outputs": [
    {
     "data": {
      "text/plain": [
       "Iris-versicolor    50\n",
       "Iris-virginica     50\n",
       "Iris-setosa        50\n",
       "Name: Species, dtype: int64"
      ]
     },
     "execution_count": 7,
     "metadata": {},
     "output_type": "execute_result"
    }
   ],
   "source": [
    "data['Species'].value_counts()"
   ]
  },
  {
   "cell_type": "markdown",
   "metadata": {
    "_uuid": "eefa41e990650064fe2cbe3efa7948844c2e9982"
   },
   "source": [
    "Data Visualization "
   ]
  },
  {
   "cell_type": "markdown",
   "metadata": {
    "_uuid": "815a8df098145008bbe7975a27030ddff93bc5eb"
   },
   "source": [
    "Pair Plot"
   ]
  },
  {
   "cell_type": "code",
   "execution_count": 8,
   "metadata": {
    "_uuid": "566cfa07f0be8277af29b2916aa1aa91ab471fb4"
   },
   "outputs": [],
   "source": [
    "import seaborn as sns\n",
    "import matplotlib.pyplot as plt\n",
    "%matplotlib inline"
   ]
  },
  {
   "cell_type": "code",
   "execution_count": 9,
   "metadata": {
    "_uuid": "71d0cd77aae42bd17884e7d0941723a10633d511"
   },
   "outputs": [
    {
     "name": "stderr",
     "output_type": "stream",
     "text": [
      "/opt/conda/lib/python3.6/site-packages/scipy/stats/stats.py:1713: FutureWarning: Using a non-tuple sequence for multidimensional indexing is deprecated; use `arr[tuple(seq)]` instead of `arr[seq]`. In the future this will be interpreted as an array index, `arr[np.array(seq)]`, which will result either in an error or a different result.\n",
      "  return np.add.reduce(sorted[indexer] * weights, axis=axis) / sumval\n"
     ]
    },
    {
     "data": {
      "image/png": "[encoded data removed]",
      "text/plain": [
       "<Figure size 823.5x720 with 20 Axes>"
      ]
     },
     "metadata": {},
     "output_type": "display_data"
    }
   ],
   "source": [
    "\n",
    "g = sns.pairplot(data, hue='Species')\n",
    "plt.show()"
   ]
  },
  {
   "cell_type": "markdown",
   "metadata": {
    "_uuid": "a747c6c7ea3eee646ea5a952ba1ea9732e699fef"
   },
   "source": [
    "Violin Plot"
   ]
  },
  {
   "cell_type": "code",
   "execution_count": 10,
   "metadata": {
    "_uuid": "09ecd182c66479ca953042618c8b2b1ea4f772e6"
   },
   "outputs": [
    {
     "data": {
      "image/png": "[encoded data removed]",
      "text/plain": [
       "<Figure size 432x288 with 1 Axes>"
      ]
     },
     "metadata": {},
     "output_type": "display_data"
    },
    {
     "data": {
      "image/png": "[encoded data removed]",
      "text/plain": [
       "<Figure size 432x288 with 1 Axes>"
      ]
     },
     "metadata": {},
     "output_type": "display_data"
    },
    {
     "data": {
      "image/png": "[encoded data removed]",
      "text/plain": [
       "<Figure size 432x288 with 1 Axes>"
      ]
     },
     "metadata": {},
     "output_type": "display_data"
    },
    {
     "data": {
      "image/png": "[encoded data removed]",
      "text/plain": [
       "<Figure size 432x288 with 1 Axes>"
      ]
     },
     "metadata": {},
     "output_type": "display_data"
    }
   ],
   "source": [
    "\n",
    "g = sns.violinplot(y='Species', x='SepalLengthCm', data=data, inner='quartile')\n",
    "plt.show()\n",
    "g = sns.violinplot(y='Species', x='SepalWidthCm', data=data, inner='quartile')\n",
    "plt.show()\n",
    "g = sns.violinplot(y='Species', x='PetalLengthCm', data=data, inner='quartile')\n",
    "plt.show()\n",
    "g = sns.violinplot(y='Species', x='PetalWidthCm', data=data, inner='quartile')\n",
    "plt.show()\n",
    "\n",
    "\n"
   ]
  },
  {
   "cell_type": "code",
   "execution_count": 11,
   "metadata": {
    "_uuid": "36b1d08545d27fb169cbaf67f881533a9bd85d6e"
   },
   "outputs": [
    {
     "data": {
      "text/plain": [
       "<matplotlib.axes._subplots.AxesSubplot at 0x7f13be9df860>"
      ]
     },
     "execution_count": 11,
     "metadata": {},
     "output_type": "execute_result"
    },
    {
     "data": {
      "image/png": "[encoded data removed]",
      "text/plain": [
       "<Figure size 432x288 with 2 Axes>"
      ]
     },
     "metadata": {},
     "output_type": "display_data"
    }
   ],
   "source": [
    "sns.heatmap(data.corr(),cmap= 'cubehelix_r') #Always convert data to data.corr()"
   ]
  },
  {
   "cell_type": "markdown",
   "metadata": {
    "_uuid": "79badae8434207e423a6c623792e990cd65764ab"
   },
   "source": [
    "The Sepal width and Sepal length are not correlated . The Petal Width and Petal Length are highly correlated."
   ]
  },
  {
   "cell_type": "code",
   "execution_count": 12,
   "metadata": {
    "_uuid": "6165843afc14e4c506fb65fc0a72c91d38caa98b",
    "scrolled": true
   },
   "outputs": [],
   "source": [
    "from sklearn.linear_model import LogisticRegression #Logistic Regression\n",
    "from sklearn.model_selection import train_test_split #splitting test and train \n",
    "from sklearn.neighbors import KNeighborsClassifier # K nearest\n",
    "from sklearn import svm # support vector machines\n",
    "from sklearn import metrics # checking model accuracy\n",
    "from sklearn.tree import DecisionTreeClassifier #Decision Tree"
   ]
  },
  {
   "cell_type": "code",
   "execution_count": 13,
   "metadata": {
    "_uuid": "33ad36514ec31545bd8205f2dc1ce0d800f5b2ab"
   },
   "outputs": [
    {
     "name": "stdout",
     "output_type": "stream",
     "text": [
      "(105, 5)\n",
      "(45, 5)\n"
     ]
    }
   ],
   "source": [
    "train, test = train_test_split(data, test_size = 0.3)# in this our main data is split into train and test\n",
    "# the attribute test_size=0.3 splits the data into 70% and 30% ratio. train=70% and test=30%\n",
    "print(train.shape)\n",
    "print(test.shape)"
   ]
  },
  {
   "cell_type": "code",
   "execution_count": 14,
   "metadata": {
    "_uuid": "52aef6611f8d0d4febfde68171640fd7c776bd38"
   },
   "outputs": [
    {
     "data": {
      "text/html": [
       "<div>\n",
       "<style scoped>\n",
       "    .dataframe tbody tr th:only-of-type {\n",
       "        vertical-align: middle;\n",
       "    }\n",
       "\n",
       "    .dataframe tbody tr th {\n",
       "        vertical-align: top;\n",
       "    }\n",
       "\n",
       "    .dataframe thead th {\n",
       "        text-align: right;\n",
       "    }\n",
       "</style>\n",
       "<table border=\"1\" class=\"dataframe\">\n",
       "  <thead>\n",
       "    <tr style=\"text-align: right;\">\n",
       "      <th></th>\n",
       "      <th>SepalLengthCm</th>\n",
       "      <th>SepalWidthCm</th>\n",
       "      <th>PetalLengthCm</th>\n",
       "      <th>PetalWidthCm</th>\n",
       "      <th>Species</th>\n",
       "    </tr>\n",
       "  </thead>\n",
       "  <tbody>\n",
       "    <tr>\n",
       "      <th>145</th>\n",
       "      <td>6.7</td>\n",
       "      <td>3.0</td>\n",
       "      <td>5.2</td>\n",
       "      <td>2.3</td>\n",
       "      <td>Iris-virginica</td>\n",
       "    </tr>\n",
       "    <tr>\n",
       "      <th>59</th>\n",
       "      <td>5.2</td>\n",
       "      <td>2.7</td>\n",
       "      <td>3.9</td>\n",
       "      <td>1.4</td>\n",
       "      <td>Iris-versicolor</td>\n",
       "    </tr>\n",
       "    <tr>\n",
       "      <th>87</th>\n",
       "      <td>6.3</td>\n",
       "      <td>2.3</td>\n",
       "      <td>4.4</td>\n",
       "      <td>1.3</td>\n",
       "      <td>Iris-versicolor</td>\n",
       "    </tr>\n",
       "    <tr>\n",
       "      <th>85</th>\n",
       "      <td>6.0</td>\n",
       "      <td>3.4</td>\n",
       "      <td>4.5</td>\n",
       "      <td>1.6</td>\n",
       "      <td>Iris-versicolor</td>\n",
       "    </tr>\n",
       "    <tr>\n",
       "      <th>93</th>\n",
       "      <td>5.0</td>\n",
       "      <td>2.3</td>\n",
       "      <td>3.3</td>\n",
       "      <td>1.0</td>\n",
       "      <td>Iris-versicolor</td>\n",
       "    </tr>\n",
       "  </tbody>\n",
       "</table>\n",
       "</div>"
      ],
      "text/plain": [
       "     SepalLengthCm  SepalWidthCm       ...         PetalWidthCm          Species\n",
       "145            6.7           3.0       ...                  2.3   Iris-virginica\n",
       "59             5.2           2.7       ...                  1.4  Iris-versicolor\n",
       "87             6.3           2.3       ...                  1.3  Iris-versicolor\n",
       "85             6.0           3.4       ...                  1.6  Iris-versicolor\n",
       "93             5.0           2.3       ...                  1.0  Iris-versicolor\n",
       "\n",
       "[5 rows x 5 columns]"
      ]
     },
     "execution_count": 14,
     "metadata": {},
     "output_type": "execute_result"
    }
   ],
   "source": [
    "train.head()"
   ]
  },
  {
   "cell_type": "code",
   "execution_count": 15,
   "metadata": {
    "_uuid": "fadb556852e3e3a0e225d5a24f9fbb79a9ac1a07"
   },
   "outputs": [],
   "source": [
    "train_X = train.drop(\"Species\",axis=1)\n",
    "test_X = test.drop(\"Species\",axis=1)\n",
    "train_y = train[\"Species\"]\n",
    "test_y = test[\"Species\"]"
   ]
  },
  {
   "cell_type": "markdown",
   "metadata": {
    "_uuid": "47dfd555330f64d46940f202cec01e3f9b1d05b6"
   },
   "source": [
    "Check Train and Test data sets"
   ]
  },
  {
   "cell_type": "code",
   "execution_count": 16,
   "metadata": {
    "_uuid": "fc0a7f53d711af2816ac93e2fb1ac226f0d47177"
   },
   "outputs": [
    {
     "data": {
      "text/html": [
       "<div>\n",
       "<style scoped>\n",
       "    .dataframe tbody tr th:only-of-type {\n",
       "        vertical-align: middle;\n",
       "    }\n",
       "\n",
       "    .dataframe tbody tr th {\n",
       "        vertical-align: top;\n",
       "    }\n",
       "\n",
       "    .dataframe thead th {\n",
       "        text-align: right;\n",
       "    }\n",
       "</style>\n",
       "<table border=\"1\" class=\"dataframe\">\n",
       "  <thead>\n",
       "    <tr style=\"text-align: right;\">\n",
       "      <th></th>\n",
       "      <th>SepalLengthCm</th>\n",
       "      <th>SepalWidthCm</th>\n",
       "      <th>PetalLengthCm</th>\n",
       "      <th>PetalWidthCm</th>\n",
       "    </tr>\n",
       "  </thead>\n",
       "  <tbody>\n",
       "    <tr>\n",
       "      <th>145</th>\n",
       "      <td>6.7</td>\n",
       "      <td>3.0</td>\n",
       "      <td>5.2</td>\n",
       "      <td>2.3</td>\n",
       "    </tr>\n",
       "    <tr>\n",
       "      <th>59</th>\n",
       "      <td>5.2</td>\n",
       "      <td>2.7</td>\n",
       "      <td>3.9</td>\n",
       "      <td>1.4</td>\n",
       "    </tr>\n",
       "  </tbody>\n",
       "</table>\n",
       "</div>"
      ],
      "text/plain": [
       "     SepalLengthCm  SepalWidthCm  PetalLengthCm  PetalWidthCm\n",
       "145            6.7           3.0            5.2           2.3\n",
       "59             5.2           2.7            3.9           1.4"
      ]
     },
     "execution_count": 16,
     "metadata": {},
     "output_type": "execute_result"
    }
   ],
   "source": [
    "train_X.head(2)"
   ]
  },
  {
   "cell_type": "code",
   "execution_count": 17,
   "metadata": {
    "_uuid": "c941014e43a56be0d81fc0c4e8fd782561859cc8"
   },
   "outputs": [
    {
     "data": {
      "text/html": [
       "<div>\n",
       "<style scoped>\n",
       "    .dataframe tbody tr th:only-of-type {\n",
       "        vertical-align: middle;\n",
       "    }\n",
       "\n",
       "    .dataframe tbody tr th {\n",
       "        vertical-align: top;\n",
       "    }\n",
       "\n",
       "    .dataframe thead th {\n",
       "        text-align: right;\n",
       "    }\n",
       "</style>\n",
       "<table border=\"1\" class=\"dataframe\">\n",
       "  <thead>\n",
       "    <tr style=\"text-align: right;\">\n",
       "      <th></th>\n",
       "      <th>SepalLengthCm</th>\n",
       "      <th>SepalWidthCm</th>\n",
       "      <th>PetalLengthCm</th>\n",
       "      <th>PetalWidthCm</th>\n",
       "    </tr>\n",
       "  </thead>\n",
       "  <tbody>\n",
       "    <tr>\n",
       "      <th>127</th>\n",
       "      <td>6.1</td>\n",
       "      <td>3.0</td>\n",
       "      <td>4.9</td>\n",
       "      <td>1.8</td>\n",
       "    </tr>\n",
       "    <tr>\n",
       "      <th>14</th>\n",
       "      <td>5.8</td>\n",
       "      <td>4.0</td>\n",
       "      <td>1.2</td>\n",
       "      <td>0.2</td>\n",
       "    </tr>\n",
       "  </tbody>\n",
       "</table>\n",
       "</div>"
      ],
      "text/plain": [
       "     SepalLengthCm  SepalWidthCm  PetalLengthCm  PetalWidthCm\n",
       "127            6.1           3.0            4.9           1.8\n",
       "14             5.8           4.0            1.2           0.2"
      ]
     },
     "execution_count": 17,
     "metadata": {},
     "output_type": "execute_result"
    }
   ],
   "source": [
    "test_X.head(2)"
   ]
  },
  {
   "cell_type": "code",
   "execution_count": 18,
   "metadata": {
    "_uuid": "b7d6fcbee43db1d18da6bdfcfd00078b8c8d2432"
   },
   "outputs": [
    {
     "data": {
      "text/plain": [
       "145     Iris-virginica\n",
       "59     Iris-versicolor\n",
       "Name: Species, dtype: object"
      ]
     },
     "execution_count": 18,
     "metadata": {},
     "output_type": "execute_result"
    }
   ],
   "source": [
    "train_y.head(2)"
   ]
  },
  {
   "cell_type": "code",
   "execution_count": 19,
   "metadata": {
    "_uuid": "a35589ef42ea7066752b7190e59465870add0ddd"
   },
   "outputs": [
    {
     "data": {
      "text/plain": [
       "127    Iris-virginica\n",
       "14        Iris-setosa\n",
       "Name: Species, dtype: object"
      ]
     },
     "execution_count": 19,
     "metadata": {},
     "output_type": "execute_result"
    }
   ],
   "source": [
    "test_y.head(2)"
   ]
  },
  {
   "cell_type": "markdown",
   "metadata": {
    "_uuid": "6c79ea538dde5a2ea42b432552c765584e8081c9"
   },
   "source": [
    "Scaling the parameters"
   ]
  },
  {
   "cell_type": "code",
   "execution_count": 20,
   "metadata": {
    "_uuid": "c9919dc8843634cd5ae15c77c756a89caee1bfb3"
   },
   "outputs": [],
   "source": [
    "from sklearn.preprocessing import StandardScaler\n",
    "sc = StandardScaler()\n",
    "sc.fit(train_X)\n",
    "train_X = sc.transform(train_X)\n",
    "test_X = sc.transform(test_X)"
   ]
  },
  {
   "cell_type": "code",
   "execution_count": 21,
   "metadata": {
    "_uuid": "907cf02781cada6a66487a785df5a5704eb40b42"
   },
   "outputs": [
    {
     "data": {
      "text/html": [
       "<div>\n",
       "<style scoped>\n",
       "    .dataframe tbody tr th:only-of-type {\n",
       "        vertical-align: middle;\n",
       "    }\n",
       "\n",
       "    .dataframe tbody tr th {\n",
       "        vertical-align: top;\n",
       "    }\n",
       "\n",
       "    .dataframe thead th {\n",
       "        text-align: right;\n",
       "    }\n",
       "</style>\n",
       "<table border=\"1\" class=\"dataframe\">\n",
       "  <thead>\n",
       "    <tr style=\"text-align: right;\">\n",
       "      <th></th>\n",
       "      <th>0</th>\n",
       "      <th>1</th>\n",
       "      <th>2</th>\n",
       "      <th>3</th>\n",
       "    </tr>\n",
       "  </thead>\n",
       "  <tbody>\n",
       "    <tr>\n",
       "      <th>0</th>\n",
       "      <td>1.019689</td>\n",
       "      <td>-0.089584</td>\n",
       "      <td>0.835126</td>\n",
       "      <td>1.426832</td>\n",
       "    </tr>\n",
       "    <tr>\n",
       "      <th>1</th>\n",
       "      <td>-0.752949</td>\n",
       "      <td>-0.795057</td>\n",
       "      <td>0.100624</td>\n",
       "      <td>0.267454</td>\n",
       "    </tr>\n",
       "  </tbody>\n",
       "</table>\n",
       "</div>"
      ],
      "text/plain": [
       "          0         1         2         3\n",
       "0  1.019689 -0.089584  0.835126  1.426832\n",
       "1 -0.752949 -0.795057  0.100624  0.267454"
      ]
     },
     "execution_count": 21,
     "metadata": {},
     "output_type": "execute_result"
    }
   ],
   "source": [
    "pd.DataFrame(train_X).head(2) #So train_X is not a dataframe , we have to transform into dataframe. Good to learn that"
   ]
  },
  {
   "cell_type": "markdown",
   "metadata": {
    "_uuid": "c1403228c6384266f9a21bcc7be7e515f26400dc"
   },
   "source": [
    "Apply Classification Algorithms on all the features "
   ]
  },
  {
   "cell_type": "markdown",
   "metadata": {
    "_uuid": "e70150f7efe685c32981734a3b0c87ca85404b26"
   },
   "source": [
    "1. Support Vector Machines ( Some Description : https://towardsdatascience.com/support-vector-machine-introduction-to-machine-learning-algorithms-934a444fca47 ) "
   ]
  },
  {
   "cell_type": "code",
   "execution_count": 22,
   "metadata": {
    "_uuid": "5b53935b9252c6d97a11770b1d20b13c200ebd81"
   },
   "outputs": [],
   "source": [
    "model = svm.SVC()"
   ]
  },
  {
   "cell_type": "code",
   "execution_count": 23,
   "metadata": {
    "_uuid": "1184799e9f97839d46c2c0d9ee7dbecf055620ff"
   },
   "outputs": [
    {
     "name": "stdout",
     "output_type": "stream",
     "text": [
      "The accuracy of SVM is  0.9333333333333333\n"
     ]
    }
   ],
   "source": [
    "model.fit(train_X,train_y)\n",
    "prediction = model.predict(test_X)\n",
    "print(\"The accuracy of SVM is \", metrics.accuracy_score(test_y,prediction))"
   ]
  },
  {
   "cell_type": "markdown",
   "metadata": {
    "_uuid": "20409041ef5cb041b99984862870051bc178d22e"
   },
   "source": [
    "* 2. Logistic Regression  : Some description ( https://medium.com/greyatom/logistic-regression-89e496433063 ) "
   ]
  },
  {
   "cell_type": "code",
   "execution_count": 24,
   "metadata": {
    "_uuid": "7f4b2a7b54863c99360ea3806773e2d3b940f992"
   },
   "outputs": [],
   "source": [
    "model = LogisticRegression()"
   ]
  },
  {
   "cell_type": "code",
   "execution_count": 25,
   "metadata": {
    "_uuid": "58d993701d1dd7cc61a6fa68b9271002cfea32a7"
   },
   "outputs": [
    {
     "name": "stdout",
     "output_type": "stream",
     "text": [
      "The accuracy of Logistic Regression is  0.8666666666666667\n"
     ]
    },
    {
     "name": "stderr",
     "output_type": "stream",
     "text": [
      "/opt/conda/lib/python3.6/site-packages/sklearn/linear_model/logistic.py:433: FutureWarning: Default solver will be changed to 'lbfgs' in 0.22. Specify a solver to silence this warning.\n",
      "  FutureWarning)\n",
      "/opt/conda/lib/python3.6/site-packages/sklearn/linear_model/logistic.py:460: FutureWarning: Default multi_class will be changed to 'auto' in 0.22. Specify the multi_class option to silence this warning.\n",
      "  \"this warning.\", FutureWarning)\n"
     ]
    }
   ],
   "source": [
    "model.fit(train_X,train_y)\n",
    "prediction = model.predict(test_X)\n",
    "print(\"The accuracy of Logistic Regression is \", metrics.accuracy_score(test_y,prediction))\n"
   ]
  },
  {
   "cell_type": "markdown",
   "metadata": {
    "_uuid": "29daf7e2296cd7b1778893aba415b91f738a9267"
   },
   "source": [
    "3. Decision Tree : Some Description ( https://medium.com/deep-math-machine-learning-ai/chapter-4-decision-trees-algorithms-b93975f7a1f1)\n",
    "\n",
    "\n",
    "\n"
   ]
  },
  {
   "cell_type": "code",
   "execution_count": 26,
   "metadata": {
    "_uuid": "7c15e2a3030814fcfb548ed9bc068a7bd7cd13ea"
   },
   "outputs": [
    {
     "name": "stdout",
     "output_type": "stream",
     "text": [
      "The accuracy of Decision Tree Algorithm is  :  0.9333333333333333\n"
     ]
    }
   ],
   "source": [
    "model = DecisionTreeClassifier()\n",
    "model.fit(train_X,train_y)\n",
    "prediction = model.predict(test_X)\n",
    "print ( \"The accuracy of Decision Tree Algorithm is  : \", metrics.accuracy_score(test_y,prediction))\n",
    "\n",
    "\n"
   ]
  },
  {
   "cell_type": "markdown",
   "metadata": {
    "_uuid": "4979b94306f60779be65f1b57dd155c5c33874ce"
   },
   "source": [
    "4. KNearest Neighbour : Some Description ( https://medium.com/@adi.bronshtein/a-quick-introduction-to-k-nearest-neighbors-algorithm-62214cea29c7 )"
   ]
  },
  {
   "cell_type": "code",
   "execution_count": 27,
   "metadata": {
    "_uuid": "efd8406557385564814b291667e1966e16e7abdf"
   },
   "outputs": [
    {
     "name": "stdout",
     "output_type": "stream",
     "text": [
      " The accuracy of KNN is :  0.9555555555555556\n"
     ]
    }
   ],
   "source": [
    "model = KNeighborsClassifier(n_neighbors= 8)\n",
    "model.fit(train_X,train_y)\n",
    "prediction = model.predict(test_X)\n",
    "print (\" The accuracy of KNN is : \" , metrics.accuracy_score(test_y,prediction))\n"
   ]
  },
  {
   "cell_type": "markdown",
   "metadata": {
    "_uuid": "2740f5e63016137c8c7bd31bbf250d0026a53553"
   },
   "source": [
    "Check which value of n_neighbour is best :"
   ]
  },
  {
   "cell_type": "code",
   "execution_count": 28,
   "metadata": {
    "_uuid": "f17b100d7042c1c43692fb7ca49a0c308711e9f8"
   },
   "outputs": [
    {
     "data": {
      "text/plain": [
       "([<matplotlib.axis.XTick at 0x7f13c27798d0>,\n",
       "  <matplotlib.axis.XTick at 0x7f13c2779208>,\n",
       "  <matplotlib.axis.XTick at 0x7f13c27790f0>,\n",
       "  <matplotlib.axis.XTick at 0x7f13c2658828>,\n",
       "  <matplotlib.axis.XTick at 0x7f13c2658d30>,\n",
       "  <matplotlib.axis.XTick at 0x7f13c2662278>,\n",
       "  <matplotlib.axis.XTick at 0x7f13c2662780>,\n",
       "  <matplotlib.axis.XTick at 0x7f13c2662c88>,\n",
       "  <matplotlib.axis.XTick at 0x7f13c26691d0>,\n",
       "  <matplotlib.axis.XTick at 0x7f13c26696d8>,\n",
       "  <matplotlib.axis.XTick at 0x7f13c2669be0>,\n",
       "  <matplotlib.axis.XTick at 0x7f13c2662828>,\n",
       "  <matplotlib.axis.XTick at 0x7f13c2669c88>,\n",
       "  <matplotlib.axis.XTick at 0x7f13c2672128>,\n",
       "  <matplotlib.axis.XTick at 0x7f13c26725c0>,\n",
       "  <matplotlib.axis.XTick at 0x7f13c2672ac8>,\n",
       "  <matplotlib.axis.XTick at 0x7f13c2672cf8>,\n",
       "  <matplotlib.axis.XTick at 0x7f13c267a518>,\n",
       "  <matplotlib.axis.XTick at 0x7f13c267aa20>],\n",
       " <a list of 19 Text xticklabel objects>)"
      ]
     },
     "execution_count": 28,
     "metadata": {},
     "output_type": "execute_result"
    },
    {
     "data": {
      "image/png": "[encoded data removed]",
      "text/plain": [
       "<Figure size 432x288 with 1 Axes>"
      ]
     },
     "metadata": {},
     "output_type": "display_data"
    }
   ],
   "source": [
    "a_index = list(range(1,20))\n",
    "a = pd.Series()\n",
    "for i in list(range(1,20)):\n",
    "    model = KNeighborsClassifier(n_neighbors= i)\n",
    "    model.fit(train_X,train_y)\n",
    "    prediction = model.predict(test_X)\n",
    "    a = a.append(pd.Series( metrics.accuracy_score(test_y,prediction)))\n",
    "    \n",
    "plt.plot(a_index,a)\n",
    "plt.xticks(a_index)\n"
   ]
  },
  {
   "cell_type": "markdown",
   "metadata": {
    "_uuid": "9dd355dee336b15f5840ba8ff3a472121230f46c"
   },
   "source": [
    "Feature Selection Now \n",
    "\n",
    "Use Sepals and Petals data Separately"
   ]
  },
  {
   "cell_type": "code",
   "execution_count": 29,
   "metadata": {
    "_uuid": "598bf1293354840d6d0b30b75694a84d7cf88781"
   },
   "outputs": [
    {
     "data": {
      "text/plain": [
       "Index(['SepalLengthCm', 'SepalWidthCm', 'PetalLengthCm', 'PetalWidthCm',\n",
       "       'Species'],\n",
       "      dtype='object')"
      ]
     },
     "execution_count": 29,
     "metadata": {},
     "output_type": "execute_result"
    }
   ],
   "source": [
    "data.head(2)\n",
    "data.columns"
   ]
  },
  {
   "cell_type": "code",
   "execution_count": 30,
   "metadata": {
    "_uuid": "75efa0c4c4f6f0803e2dbfb9691e971e982876b8"
   },
   "outputs": [],
   "source": [
    "Sepal = data[['SepalLengthCm', 'SepalWidthCm','Species']]\n",
    "Petal = data[['PetalLengthCm', 'PetalWidthCm', 'Species']]"
   ]
  },
  {
   "cell_type": "code",
   "execution_count": 31,
   "metadata": {
    "_uuid": "609d7a04768a855fe78bf60854eda4e6251fa8d9"
   },
   "outputs": [
    {
     "data": {
      "text/html": [
       "<div>\n",
       "<style scoped>\n",
       "    .dataframe tbody tr th:only-of-type {\n",
       "        vertical-align: middle;\n",
       "    }\n",
       "\n",
       "    .dataframe tbody tr th {\n",
       "        vertical-align: top;\n",
       "    }\n",
       "\n",
       "    .dataframe thead th {\n",
       "        text-align: right;\n",
       "    }\n",
       "</style>\n",
       "<table border=\"1\" class=\"dataframe\">\n",
       "  <thead>\n",
       "    <tr style=\"text-align: right;\">\n",
       "      <th></th>\n",
       "      <th>SepalLengthCm</th>\n",
       "      <th>SepalWidthCm</th>\n",
       "      <th>Species</th>\n",
       "    </tr>\n",
       "  </thead>\n",
       "  <tbody>\n",
       "    <tr>\n",
       "      <th>0</th>\n",
       "      <td>5.1</td>\n",
       "      <td>3.5</td>\n",
       "      <td>Iris-setosa</td>\n",
       "    </tr>\n",
       "    <tr>\n",
       "      <th>1</th>\n",
       "      <td>4.9</td>\n",
       "      <td>3.0</td>\n",
       "      <td>Iris-setosa</td>\n",
       "    </tr>\n",
       "  </tbody>\n",
       "</table>\n",
       "</div>"
      ],
      "text/plain": [
       "   SepalLengthCm  SepalWidthCm      Species\n",
       "0            5.1           3.5  Iris-setosa\n",
       "1            4.9           3.0  Iris-setosa"
      ]
     },
     "execution_count": 31,
     "metadata": {},
     "output_type": "execute_result"
    }
   ],
   "source": [
    "Sepal.head(2)"
   ]
  },
  {
   "cell_type": "code",
   "execution_count": 32,
   "metadata": {
    "_uuid": "56338cb595fb705da94e83cce9b310d660f4c6be"
   },
   "outputs": [
    {
     "data": {
      "text/html": [
       "<div>\n",
       "<style scoped>\n",
       "    .dataframe tbody tr th:only-of-type {\n",
       "        vertical-align: middle;\n",
       "    }\n",
       "\n",
       "    .dataframe tbody tr th {\n",
       "        vertical-align: top;\n",
       "    }\n",
       "\n",
       "    .dataframe thead th {\n",
       "        text-align: right;\n",
       "    }\n",
       "</style>\n",
       "<table border=\"1\" class=\"dataframe\">\n",
       "  <thead>\n",
       "    <tr style=\"text-align: right;\">\n",
       "      <th></th>\n",
       "      <th>PetalLengthCm</th>\n",
       "      <th>PetalWidthCm</th>\n",
       "      <th>Species</th>\n",
       "    </tr>\n",
       "  </thead>\n",
       "  <tbody>\n",
       "    <tr>\n",
       "      <th>0</th>\n",
       "      <td>1.4</td>\n",
       "      <td>0.2</td>\n",
       "      <td>Iris-setosa</td>\n",
       "    </tr>\n",
       "    <tr>\n",
       "      <th>1</th>\n",
       "      <td>1.4</td>\n",
       "      <td>0.2</td>\n",
       "      <td>Iris-setosa</td>\n",
       "    </tr>\n",
       "  </tbody>\n",
       "</table>\n",
       "</div>"
      ],
      "text/plain": [
       "   PetalLengthCm  PetalWidthCm      Species\n",
       "0            1.4           0.2  Iris-setosa\n",
       "1            1.4           0.2  Iris-setosa"
      ]
     },
     "execution_count": 32,
     "metadata": {},
     "output_type": "execute_result"
    }
   ],
   "source": [
    "Petal.head(2)"
   ]
  },
  {
   "cell_type": "code",
   "execution_count": 33,
   "metadata": {
    "_uuid": "a11eba32201a9d4a4c5c9d2f960d190c2fee300c"
   },
   "outputs": [],
   "source": [
    "sc = StandardScaler()\n"
   ]
  },
  {
   "cell_type": "code",
   "execution_count": 34,
   "metadata": {
    "_uuid": "404f7a847836ceec9a494869deacb901549d5192"
   },
   "outputs": [],
   "source": [
    "train_p,test_p = train_test_split(Petal,test_size = 0.3, random_state = 0)\n",
    "train_x_p = train_p[['PetalLengthCm', 'PetalWidthCm']]\n",
    "train_y_p = train_p[['Species']]\n",
    "test_x_p = test_p[['PetalLengthCm', 'PetalWidthCm']]\n",
    "test_y_p = test_p[['Species']]"
   ]
  },
  {
   "cell_type": "code",
   "execution_count": 35,
   "metadata": {
    "_uuid": "cde170d30362ea12ea4ee77543baf5bcca293305"
   },
   "outputs": [],
   "source": [
    "train_s,test_s = train_test_split(Sepal,test_size = 0.3, random_state = 0)\n",
    "train_x_s = train_s[['SepalLengthCm', 'SepalWidthCm']]\n",
    "train_y_s = train_s[['Species']]\n",
    "test_x_s = test_s[['SepalLengthCm', 'SepalWidthCm']]\n",
    "test_y_s = test_s[['Species']]"
   ]
  },
  {
   "cell_type": "code",
   "execution_count": 36,
   "metadata": {
    "_uuid": "0d4dc583ff5eeaff35b3ba3bce3bc0c72956994a"
   },
   "outputs": [
    {
     "data": {
      "text/plain": [
       "StandardScaler(copy=True, with_mean=True, with_std=True)"
      ]
     },
     "execution_count": 36,
     "metadata": {},
     "output_type": "execute_result"
    }
   ],
   "source": [
    "sc.fit(train_x_p)\n",
    "sc.fit(train_x_s)"
   ]
  },
  {
   "cell_type": "code",
   "execution_count": 37,
   "metadata": {
    "_uuid": "b5be01e721411c4fb7332273dc690f8870bea456"
   },
   "outputs": [],
   "source": [
    "train_x_p = sc.transform(train_x_p)\n",
    "train_x_s = sc.transform(train_x_s)\n",
    "test_x_p = sc.transform(test_x_p)\n",
    "test_x_s = sc.transform(test_x_s)"
   ]
  },
  {
   "cell_type": "markdown",
   "metadata": {
    "_uuid": "168cf122c57082f13886550d7a51ce79c91f50b3"
   },
   "source": [
    "Test Algorithms \n",
    "\n",
    "1. SVM "
   ]
  },
  {
   "cell_type": "code",
   "execution_count": 38,
   "metadata": {
    "_uuid": "2d37560b356437bcdb26c42acd1d35aaa1378f83"
   },
   "outputs": [
    {
     "name": "stdout",
     "output_type": "stream",
     "text": [
      "The accuracy for Petals SVM is :  0.9777777777777777\n",
      "The accuracy for Sepals SVM is :  0.7777777777777778\n"
     ]
    },
    {
     "name": "stderr",
     "output_type": "stream",
     "text": [
      "/opt/conda/lib/python3.6/site-packages/sklearn/utils/validation.py:761: DataConversionWarning: A column-vector y was passed when a 1d array was expected. Please change the shape of y to (n_samples, ), for example using ravel().\n",
      "  y = column_or_1d(y, warn=True)\n",
      "/opt/conda/lib/python3.6/site-packages/sklearn/svm/base.py:196: FutureWarning: The default value of gamma will change from 'auto' to 'scale' in version 0.22 to account better for unscaled features. Set gamma explicitly to 'auto' or 'scale' to avoid this warning.\n",
      "  \"avoid this warning.\", FutureWarning)\n",
      "/opt/conda/lib/python3.6/site-packages/sklearn/utils/validation.py:761: DataConversionWarning: A column-vector y was passed when a 1d array was expected. Please change the shape of y to (n_samples, ), for example using ravel().\n",
      "  y = column_or_1d(y, warn=True)\n"
     ]
    }
   ],
   "source": [
    "model_p= svm.SVC()\n",
    "model_s= svm.SVC()\n",
    "model_p.fit(train_x_p,train_y_p)\n",
    "prediction_p = model_p.predict(test_x_p)\n",
    "model_s.fit(train_x_s,train_y_s)\n",
    "prediction_s = model_s.predict(test_x_s)\n",
    "print(\"The accuracy for Petals SVM is : \", metrics.accuracy_score(test_y_p,prediction_p))\n",
    "print(\"The accuracy for Sepals SVM is : \", metrics.accuracy_score(test_y_s,prediction_s))\n"
   ]
  },
  {
   "cell_type": "markdown",
   "metadata": {
    "_uuid": "010f510898ba098d23a7f699e650db33680ec223"
   },
   "source": [
    "2. Logistic Regression"
   ]
  },
  {
   "cell_type": "code",
   "execution_count": 39,
   "metadata": {
    "_uuid": "1ba2268a109b772282f577baed3ad176ed1e3ac3"
   },
   "outputs": [
    {
     "name": "stdout",
     "output_type": "stream",
     "text": [
      "The accuracy for Petals Logistic Regression is :  0.9333333333333333\n",
      "The accuracy for Sepals Logistic Regression is :  0.6666666666666666\n"
     ]
    },
    {
     "name": "stderr",
     "output_type": "stream",
     "text": [
      "/opt/conda/lib/python3.6/site-packages/sklearn/linear_model/logistic.py:433: FutureWarning: Default solver will be changed to 'lbfgs' in 0.22. Specify a solver to silence this warning.\n",
      "  FutureWarning)\n",
      "/opt/conda/lib/python3.6/site-packages/sklearn/utils/validation.py:761: DataConversionWarning: A column-vector y was passed when a 1d array was expected. Please change the shape of y to (n_samples, ), for example using ravel().\n",
      "  y = column_or_1d(y, warn=True)\n",
      "/opt/conda/lib/python3.6/site-packages/sklearn/linear_model/logistic.py:460: FutureWarning: Default multi_class will be changed to 'auto' in 0.22. Specify the multi_class option to silence this warning.\n",
      "  \"this warning.\", FutureWarning)\n",
      "/opt/conda/lib/python3.6/site-packages/sklearn/linear_model/logistic.py:433: FutureWarning: Default solver will be changed to 'lbfgs' in 0.22. Specify a solver to silence this warning.\n",
      "  FutureWarning)\n",
      "/opt/conda/lib/python3.6/site-packages/sklearn/utils/validation.py:761: DataConversionWarning: A column-vector y was passed when a 1d array was expected. Please change the shape of y to (n_samples, ), for example using ravel().\n",
      "  y = column_or_1d(y, warn=True)\n",
      "/opt/conda/lib/python3.6/site-packages/sklearn/linear_model/logistic.py:460: FutureWarning: Default multi_class will be changed to 'auto' in 0.22. Specify the multi_class option to silence this warning.\n",
      "  \"this warning.\", FutureWarning)\n"
     ]
    }
   ],
   "source": [
    "model_p= LogisticRegression()\n",
    "model_s= LogisticRegression()\n",
    "model_p.fit(train_x_p,train_y_p)\n",
    "prediction_p = model_p.predict(test_x_p)\n",
    "model_s.fit(train_x_s,train_y_s)\n",
    "prediction_s = model_s.predict(test_x_s)\n",
    "print(\"The accuracy for Petals Logistic Regression is : \", metrics.accuracy_score(test_y_p,prediction_p))\n",
    "print(\"The accuracy for Sepals Logistic Regression is : \", metrics.accuracy_score(test_y_s,prediction_s))\n",
    "\n",
    "\n"
   ]
  },
  {
   "cell_type": "markdown",
   "metadata": {
    "_uuid": "97e85ab613aabeab763e8bcea124f77a4e0e43b5"
   },
   "source": [
    "3. Decision Tree "
   ]
  },
  {
   "cell_type": "code",
   "execution_count": 40,
   "metadata": {
    "_uuid": "7906bc83df1eabae7ebfd9e57161bc5a54a2dd3e"
   },
   "outputs": [
    {
     "name": "stdout",
     "output_type": "stream",
     "text": [
      "The accuracy for Petals Logistic Regression is :  0.9555555555555556\n",
      "The accuracy for Sepals Logistic Regression is :  0.6666666666666666\n"
     ]
    }
   ],
   "source": [
    "model_p= DecisionTreeClassifier()\n",
    "model_s= DecisionTreeClassifier()\n",
    "model_p.fit(train_x_p,train_y_p)\n",
    "prediction_p = model_p.predict(test_x_p)\n",
    "model_s.fit(train_x_s,train_y_s)\n",
    "prediction_s = model_s.predict(test_x_s)\n",
    "print(\"The accuracy for Petals Logistic Regression is : \", metrics.accuracy_score(test_y_p,prediction_p))\n",
    "print(\"The accuracy for Sepals Logistic Regression is : \", metrics.accuracy_score(test_y_s,prediction_s))\n",
    "\n",
    "\n"
   ]
  },
  {
   "cell_type": "markdown",
   "metadata": {
    "_uuid": "47d4b67c81869ae1ed49f6e7be6f8f8f85aa24dd"
   },
   "source": [
    "4. KNN "
   ]
  },
  {
   "cell_type": "code",
   "execution_count": 41,
   "metadata": {
    "_uuid": "6949cdf62e06501430856ff46567ee9e57b95ca2"
   },
   "outputs": [
    {
     "name": "stdout",
     "output_type": "stream",
     "text": [
      "The accuracy for Petals KNN is :  1.0\n",
      "The accuracy for Sepals KNN is :  0.8\n"
     ]
    },
    {
     "name": "stderr",
     "output_type": "stream",
     "text": [
      "/opt/conda/lib/python3.6/site-packages/ipykernel_launcher.py:3: DataConversionWarning: A column-vector y was passed when a 1d array was expected. Please change the shape of y to (n_samples, ), for example using ravel().\n",
      "  This is separate from the ipykernel package so we can avoid doing imports until\n",
      "/opt/conda/lib/python3.6/site-packages/ipykernel_launcher.py:5: DataConversionWarning: A column-vector y was passed when a 1d array was expected. Please change the shape of y to (n_samples, ), for example using ravel().\n",
      "  \"\"\"\n"
     ]
    }
   ],
   "source": [
    "model_p= KNeighborsClassifier(n_neighbors=8)\n",
    "model_s= KNeighborsClassifier(n_neighbors=8)\n",
    "model_p.fit(train_x_p,train_y_p)\n",
    "prediction_p = model_p.predict(test_x_p)\n",
    "model_s.fit(train_x_s,train_y_s)\n",
    "prediction_s = model_s.predict(test_x_s)\n",
    "print(\"The accuracy for Petals KNN is : \", metrics.accuracy_score(test_y_p,prediction_p))\n",
    "print(\"The accuracy for Sepals KNN is : \", metrics.accuracy_score(test_y_s,prediction_s))\n",
    "\n",
    "\n"
   ]
  },
  {
   "cell_type": "markdown",
   "metadata": {
    "_uuid": "73aa04351ad7d5427e3afced28ce66c18daad274"
   },
   "source": [
    "Keras Model Check"
   ]
  },
  {
   "cell_type": "code",
   "execution_count": 42,
   "metadata": {
    "_uuid": "0278cc80497329bea97368fa8f25247eb250746a"
   },
   "outputs": [
    {
     "data": {
      "text/html": [
       "<div>\n",
       "<style scoped>\n",
       "    .dataframe tbody tr th:only-of-type {\n",
       "        vertical-align: middle;\n",
       "    }\n",
       "\n",
       "    .dataframe tbody tr th {\n",
       "        vertical-align: top;\n",
       "    }\n",
       "\n",
       "    .dataframe thead th {\n",
       "        text-align: right;\n",
       "    }\n",
       "</style>\n",
       "<table border=\"1\" class=\"dataframe\">\n",
       "  <thead>\n",
       "    <tr style=\"text-align: right;\">\n",
       "      <th></th>\n",
       "      <th>0</th>\n",
       "      <th>1</th>\n",
       "      <th>2</th>\n",
       "      <th>3</th>\n",
       "    </tr>\n",
       "  </thead>\n",
       "  <tbody>\n",
       "    <tr>\n",
       "      <th>0</th>\n",
       "      <td>1.019689</td>\n",
       "      <td>-0.089584</td>\n",
       "      <td>0.835126</td>\n",
       "      <td>1.426832</td>\n",
       "    </tr>\n",
       "    <tr>\n",
       "      <th>1</th>\n",
       "      <td>-0.752949</td>\n",
       "      <td>-0.795057</td>\n",
       "      <td>0.100624</td>\n",
       "      <td>0.267454</td>\n",
       "    </tr>\n",
       "  </tbody>\n",
       "</table>\n",
       "</div>"
      ],
      "text/plain": [
       "          0         1         2         3\n",
       "0  1.019689 -0.089584  0.835126  1.426832\n",
       "1 -0.752949 -0.795057  0.100624  0.267454"
      ]
     },
     "execution_count": 42,
     "metadata": {},
     "output_type": "execute_result"
    }
   ],
   "source": [
    "pd.DataFrame(train_X).head(2)"
   ]
  },
  {
   "cell_type": "code",
   "execution_count": 43,
   "metadata": {
    "_uuid": "afcc1aa0ca1b5b006ddd8309f4f231668dc76009"
   },
   "outputs": [],
   "source": [
    "from sklearn.preprocessing import LabelEncoder\n",
    "encoder = LabelEncoder()"
   ]
  },
  {
   "cell_type": "code",
   "execution_count": 44,
   "metadata": {
    "_uuid": "f879f3db1499e45aaf0f873c2b4c68ec871bc9b0"
   },
   "outputs": [],
   "source": [
    "train_y = encoder.fit_transform(train_y)\n",
    "test_y = encoder.fit_transform(test_y)\n",
    "train_y = pd.get_dummies(train_y).values\n",
    "test_y = pd.get_dummies(test_y).values"
   ]
  },
  {
   "cell_type": "code",
   "execution_count": 45,
   "metadata": {
    "_uuid": "cba5794909f16afa63586b52adceb473adbf5d63"
   },
   "outputs": [
    {
     "name": "stderr",
     "output_type": "stream",
     "text": [
      "Using TensorFlow backend.\n"
     ]
    },
    {
     "name": "stdout",
     "output_type": "stream",
     "text": [
      "_________________________________________________________________\n",
      "Layer (type)                 Output Shape              Param #   \n",
      "=================================================================\n",
      "dense_1 (Dense)              (None, 10)                50        \n",
      "_________________________________________________________________\n",
      "dense_2 (Dense)              (None, 8)                 88        \n",
      "_________________________________________________________________\n",
      "dense_3 (Dense)              (None, 6)                 54        \n",
      "_________________________________________________________________\n",
      "dense_4 (Dense)              (None, 3)                 21        \n",
      "=================================================================\n",
      "Total params: 213\n",
      "Trainable params: 213\n",
      "Non-trainable params: 0\n",
      "_________________________________________________________________\n"
     ]
    }
   ],
   "source": [
    "# Model Creation\n",
    "from keras.models import Sequential\n",
    "from keras.layers import Dense\n",
    "from keras.optimizers import SGD,Adam\n",
    "\n",
    "model = Sequential()\n",
    "\n",
    "model.add(Dense(10,input_shape=(4,),activation='relu'))\n",
    "model.add(Dense(8,activation='relu'))\n",
    "model.add(Dense(6,activation='relu'))\n",
    "model.add(Dense(3,activation='softmax'))\n",
    "\n",
    "model.compile(Adam(lr=0.04),'categorical_crossentropy',metrics=['accuracy'])\n",
    "\n",
    "model.summary()"
   ]
  },
  {
   "cell_type": "code",
   "execution_count": 46,
   "metadata": {
    "_uuid": "d25f82d069a7759873f57648a7d045393b660df1"
   },
   "outputs": [
    {
     "name": "stdout",
     "output_type": "stream",
     "text": [
      "Epoch 1/30\n",
      "105/105 [==============================] - 0s 3ms/step - loss: 0.8543 - acc: 0.7524\n",
      "Epoch 2/30\n",
      "105/105 [==============================] - 0s 67us/step - loss: 0.4597 - acc: 0.8190\n",
      "Epoch 3/30\n",
      "105/105 [==============================] - 0s 54us/step - loss: 0.2771 - acc: 0.9238\n",
      "Epoch 4/30\n",
      "105/105 [==============================] - 0s 59us/step - loss: 0.1958 - acc: 0.8762\n",
      "Epoch 5/30\n",
      "105/105 [==============================] - 0s 58us/step - loss: 0.1058 - acc: 0.9524\n",
      "Epoch 6/30\n",
      "105/105 [==============================] - 0s 59us/step - loss: 0.0633 - acc: 0.9810\n",
      "Epoch 7/30\n",
      "105/105 [==============================] - 0s 55us/step - loss: 0.0503 - acc: 0.9810\n",
      "Epoch 8/30\n",
      "105/105 [==============================] - 0s 62us/step - loss: 0.0509 - acc: 0.9810\n",
      "Epoch 9/30\n",
      "105/105 [==============================] - 0s 67us/step - loss: 0.0258 - acc: 0.9810\n",
      "Epoch 10/30\n",
      "105/105 [==============================] - 0s 59us/step - loss: 0.0155 - acc: 0.9905\n",
      "Epoch 11/30\n",
      "105/105 [==============================] - 0s 55us/step - loss: 0.0196 - acc: 0.9905\n",
      "Epoch 12/30\n",
      "105/105 [==============================] - 0s 61us/step - loss: 0.0104 - acc: 1.0000\n",
      "Epoch 13/30\n",
      "105/105 [==============================] - 0s 57us/step - loss: 0.0145 - acc: 0.9905\n",
      "Epoch 14/30\n",
      "105/105 [==============================] - 0s 61us/step - loss: 0.1077 - acc: 0.9810\n",
      "Epoch 15/30\n",
      "105/105 [==============================] - 0s 62us/step - loss: 0.0163 - acc: 0.9905\n",
      "Epoch 16/30\n",
      "105/105 [==============================] - 0s 60us/step - loss: 0.0413 - acc: 0.9905\n",
      "Epoch 17/30\n",
      "105/105 [==============================] - 0s 60us/step - loss: 0.0598 - acc: 0.9810\n",
      "Epoch 18/30\n",
      "105/105 [==============================] - 0s 56us/step - loss: 0.0400 - acc: 0.9810\n",
      "Epoch 19/30\n",
      "105/105 [==============================] - 0s 57us/step - loss: 0.0107 - acc: 0.9905\n",
      "Epoch 20/30\n",
      "105/105 [==============================] - 0s 57us/step - loss: 0.0157 - acc: 0.9905\n",
      "Epoch 21/30\n",
      "105/105 [==============================] - 0s 59us/step - loss: 0.0141 - acc: 0.9905\n",
      "Epoch 22/30\n",
      "105/105 [==============================] - 0s 59us/step - loss: 0.0102 - acc: 0.9905\n",
      "Epoch 23/30\n",
      "105/105 [==============================] - 0s 56us/step - loss: 0.0104 - acc: 0.9905\n",
      "Epoch 24/30\n",
      "105/105 [==============================] - 0s 55us/step - loss: 0.0084 - acc: 1.0000\n",
      "Epoch 25/30\n",
      "105/105 [==============================] - 0s 63us/step - loss: 0.0044 - acc: 1.0000\n",
      "Epoch 26/30\n",
      "105/105 [==============================] - 0s 52us/step - loss: 0.0160 - acc: 0.9905\n",
      "Epoch 27/30\n",
      "105/105 [==============================] - 0s 51us/step - loss: 0.0072 - acc: 1.0000\n",
      "Epoch 28/30\n",
      "105/105 [==============================] - 0s 56us/step - loss: 0.0092 - acc: 0.9905\n",
      "Epoch 29/30\n",
      "105/105 [==============================] - 0s 52us/step - loss: 0.0069 - acc: 1.0000\n",
      "Epoch 30/30\n",
      "105/105 [==============================] - 0s 61us/step - loss: 0.0294 - acc: 0.9905\n"
     ]
    }
   ],
   "source": [
    "model.fit(train_X,train_y,epochs=30)\n",
    "y_pred = model.predict(test_X)\n",
    "\n",
    "y_test_class = np.argmax(test_y,axis=1)\n",
    "y_pred_class = np.argmax(y_pred,axis=1)"
   ]
  },
  {
   "cell_type": "code",
   "execution_count": 47,
   "metadata": {
    "_uuid": "0baa613dbce14dcc2d1664f05e56a7bd56a96be5"
   },
   "outputs": [],
   "source": []
  },
  {
   "cell_type": "code",
   "execution_count": 47,
   "metadata": {
    "_uuid": "1c5f8bd39552eedfeef338fc8a13d0ebf6921aa9"
   },
   "outputs": [],
   "source": []
  },
  {
   "cell_type": "code",
   "execution_count": 47,
   "metadata": {
    "_uuid": "cc4cdeae832b7d914ae0cd561cd7666d873afa1e"
   },
   "outputs": [],
   "source": []
  },
  {
   "cell_type": "code",
   "execution_count": 47,
   "metadata": {
    "_uuid": "a303cffea487488f59a2d23f020e18694648e55a"
   },
   "outputs": [],
   "source": []
  },
  {
   "cell_type": "code",
   "execution_count": 47,
   "metadata": {
    "_uuid": "8d126eb0289479451c6c871a80ac2876859abdad"
   },
   "outputs": [],
   "source": []
  }
 ],
 "metadata": {
  "kernelspec": {
   "display_name": "Python 3",
   "language": "python",
   "name": "python3"
  },
  "language_info": {
   "codemirror_mode": {
    "name": "ipython",
    "version": 3
   },
   "file_extension": ".py",
   "mimetype": "text/x-python",
   "name": "python",
   "nbconvert_exporter": "python",
   "pygments_lexer": "ipython3",
   "version": "3.6.6"
  }
 },
 "nbformat": 4,
 "nbformat_minor": 1
}
